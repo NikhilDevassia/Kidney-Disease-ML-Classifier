{
 "cells": [
  {
   "cell_type": "code",
   "execution_count": 2,
   "metadata": {},
   "outputs": [],
   "source": [
    "import os "
   ]
  },
  {
   "cell_type": "code",
   "execution_count": 3,
   "metadata": {},
   "outputs": [],
   "source": [
    "os.environ[\"MLFLOW_TRACKING_URI\"] = \"https://dagshub.com/NikhilDevassia/Kidney-Disease-ML-Classifier.mlflow\"\n",
    "os.environ[\"MLFLOW_TRACKING_USERNAME\"] = \"NikhilDevassia\"\n",
    "os.environ[\"MLFLOW_TRACKING_PASSWORD\"] = \"2ea48dcd252d551ac30da94737bdb76af748f309\""
   ]
  },
  {
   "cell_type": "code",
   "execution_count": null,
   "metadata": {},
   "outputs": [],
   "source": [
    "export MLFLOW_TRACKING_URI=https://dagshub.com/NikhilDevassia/Kidney-Disease-ML-Classifier.mlflow\n",
    "export MLFLOW_TRACKING_USERNAME=NikhilDevassia\n",
    "export MLFLOW_TRACKING_PASSWORD=2ea48dcd252d551ac30da94737bdb76af748f309"
   ]
  },
  {
   "cell_type": "code",
   "execution_count": null,
   "metadata": {},
   "outputs": [],
   "source": []
  }
 ],
 "metadata": {
  "kernelspec": {
   "display_name": "myenv",
   "language": "python",
   "name": "python3"
  },
  "language_info": {
   "codemirror_mode": {
    "name": "ipython",
    "version": 3
   },
   "file_extension": ".py",
   "mimetype": "text/x-python",
   "name": "python",
   "nbconvert_exporter": "python",
   "pygments_lexer": "ipython3",
   "version": "3.8.18"
  }
 },
 "nbformat": 4,
 "nbformat_minor": 2
}
